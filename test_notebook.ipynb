{
 "cells": [
  {
   "cell_type": "code",
   "execution_count": 1,
   "id": "9c900adb",
   "metadata": {},
   "outputs": [],
   "source": [
    "import pandas as pd\n",
    "import json\n",
    "import config\n",
    "from data_loader import load_hourly_solar_data\n",
    "from data_loader import load_hourly_load_data\n",
    "from simulation import run_simulation\n",
    "from components.battery import Battery\n",
    "from data_loader import load_test\n"
   ]
  },
  {
   "cell_type": "code",
   "execution_count": 124,
   "id": "f2d8a280",
   "metadata": {},
   "outputs": [],
   "source": [
    "with open(\"data/hourly_data.json\", \"r\") as f:\n",
    "    raw_data = json.load(f)"
   ]
  },
  {
   "cell_type": "code",
   "execution_count": 5,
   "id": "17832b3e",
   "metadata": {},
   "outputs": [
    {
     "name": "stdout",
     "output_type": "stream",
     "text": [
      "Field: roof_southwest\n",
      "Keys: dict_keys(['timestamp', 'power_kwh'])\n"
     ]
    }
   ],
   "source": [
    "for field, content in raw_data.items():\n",
    "    print(f\"Field: {field}\")\n",
    "    print(f\"Keys: {content.keys()}\")\n",
    "    break  # just check the first one"
   ]
  },
  {
   "cell_type": "code",
   "execution_count": 131,
   "id": "9fc5287d",
   "metadata": {},
   "outputs": [
    {
     "data": {
      "text/plain": [
       "Timestamp('2010-01-01 00:10:00')"
      ]
     },
     "execution_count": 131,
     "metadata": {},
     "output_type": "execute_result"
    }
   ],
   "source": [
    "pd.to_datetime(pd.DataFrame(raw_data['roof_southwest'])['timestamp'][0])"
   ]
  },
  {
   "cell_type": "code",
   "execution_count": 19,
   "id": "ebf51fff",
   "metadata": {},
   "outputs": [],
   "source": [
    "selected_fields=config.SELECTED_FIELD_NAMES\n",
    "\n",
    "hourly_data_dic = {\n",
    "        field: pd.DataFrame({\n",
    "            \"power_kwh\": data[\"power_kwh\"]\n",
    "        }, index=pd.to_datetime(data['timestamp']).floor('h'))\n",
    "        for field, data in raw_data.items()\n",
    "        if selected_fields is None or field in selected_fields\n",
    "    }"
   ]
  },
  {
   "cell_type": "code",
   "execution_count": 7,
   "id": "ad5cf033",
   "metadata": {},
   "outputs": [
    {
     "data": {
      "text/plain": [
       "['roof_southwest', 'backwall_t90']"
      ]
     },
     "execution_count": 7,
     "metadata": {},
     "output_type": "execute_result"
    }
   ],
   "source": [
    "selected_fields"
   ]
  },
  {
   "cell_type": "code",
   "execution_count": 18,
   "id": "fc7ca5ce",
   "metadata": {},
   "outputs": [],
   "source": [
    "hourly_data_dic = load_hourly_solar_data(\n",
    "    filename=\"data/hourly_data.json\",\n",
    "    selected_fields=config.SELECTED_FIELD_NAMES\n",
    ")"
   ]
  },
  {
   "cell_type": "code",
   "execution_count": 19,
   "id": "e5869a2d",
   "metadata": {},
   "outputs": [],
   "source": [
    "solar_df = sum(hourly_data_dic.values()).round(2)\n",
    "solar_df.columns = [\"power_kwh\"]"
   ]
  },
  {
   "cell_type": "code",
   "execution_count": null,
   "id": "f305a279",
   "metadata": {},
   "outputs": [
    {
     "data": {
      "application/vnd.microsoft.datawrangler.viewer.v0+json": {
       "columns": [
        {
         "name": "index",
         "rawType": "datetime64[ns]",
         "type": "datetime"
        },
        {
         "name": "power_kwh",
         "rawType": "float64",
         "type": "float"
        }
       ],
       "ref": "1b43984f-3e00-4167-b471-357bfe6d8991",
       "rows": [
        [
         "2010-01-01 00:00:00",
         "0.0"
        ],
        [
         "2010-01-01 01:00:00",
         "0.0"
        ],
        [
         "2010-01-01 02:00:00",
         "0.0"
        ],
        [
         "2010-01-01 03:00:00",
         "0.0"
        ],
        [
         "2010-01-01 04:00:00",
         "0.0"
        ],
        [
         "2010-01-01 05:00:00",
         "0.0"
        ],
        [
         "2010-01-01 06:00:00",
         "0.0"
        ],
        [
         "2010-01-01 07:00:00",
         "0.0"
        ],
        [
         "2010-01-01 08:00:00",
         "0.0"
        ],
        [
         "2010-01-01 09:00:00",
         "42.14"
        ],
        [
         "2010-01-01 10:00:00",
         "172.24"
        ],
        [
         "2010-01-01 11:00:00",
         "336.62"
        ],
        [
         "2010-01-01 12:00:00",
         "830.43"
        ],
        [
         "2010-01-01 13:00:00",
         "672.86"
        ],
        [
         "2010-01-01 14:00:00",
         "735.14"
        ],
        [
         "2010-01-01 15:00:00",
         "998.57"
        ],
        [
         "2010-01-01 16:00:00",
         "422.13"
        ],
        [
         "2010-01-01 17:00:00",
         "0.0"
        ],
        [
         "2010-01-01 18:00:00",
         "0.0"
        ],
        [
         "2010-01-01 19:00:00",
         "0.0"
        ],
        [
         "2010-01-01 20:00:00",
         "0.0"
        ],
        [
         "2010-01-01 21:00:00",
         "0.0"
        ],
        [
         "2010-01-01 22:00:00",
         "0.0"
        ],
        [
         "2010-01-01 23:00:00",
         "0.0"
        ],
        [
         "2010-01-02 00:00:00",
         "0.0"
        ],
        [
         "2010-01-02 01:00:00",
         "0.0"
        ],
        [
         "2010-01-02 02:00:00",
         "0.0"
        ],
        [
         "2010-01-02 03:00:00",
         "0.0"
        ],
        [
         "2010-01-02 04:00:00",
         "0.0"
        ],
        [
         "2010-01-02 05:00:00",
         "0.0"
        ],
        [
         "2010-01-02 06:00:00",
         "0.0"
        ],
        [
         "2010-01-02 07:00:00",
         "0.0"
        ],
        [
         "2010-01-02 08:00:00",
         "0.0"
        ],
        [
         "2010-01-02 09:00:00",
         "31.35"
        ],
        [
         "2010-01-02 10:00:00",
         "105.24"
        ],
        [
         "2010-01-02 11:00:00",
         "144.07"
        ],
        [
         "2010-01-02 12:00:00",
         "660.39"
        ],
        [
         "2010-01-02 13:00:00",
         "233.71"
        ],
        [
         "2010-01-02 14:00:00",
         "388.68"
        ],
        [
         "2010-01-02 15:00:00",
         "420.1"
        ],
        [
         "2010-01-02 16:00:00",
         "51.61"
        ],
        [
         "2010-01-02 17:00:00",
         "0.0"
        ],
        [
         "2010-01-02 18:00:00",
         "0.0"
        ],
        [
         "2010-01-02 19:00:00",
         "0.0"
        ],
        [
         "2010-01-02 20:00:00",
         "0.0"
        ],
        [
         "2010-01-02 21:00:00",
         "0.0"
        ],
        [
         "2010-01-02 22:00:00",
         "0.0"
        ],
        [
         "2010-01-02 23:00:00",
         "0.0"
        ],
        [
         "2010-01-03 00:00:00",
         "0.0"
        ],
        [
         "2010-01-03 01:00:00",
         "0.0"
        ]
       ],
       "shape": {
        "columns": 1,
        "rows": 122712
       }
      },
      "text/html": [
       "<div>\n",
       "<style scoped>\n",
       "    .dataframe tbody tr th:only-of-type {\n",
       "        vertical-align: middle;\n",
       "    }\n",
       "\n",
       "    .dataframe tbody tr th {\n",
       "        vertical-align: top;\n",
       "    }\n",
       "\n",
       "    .dataframe thead th {\n",
       "        text-align: right;\n",
       "    }\n",
       "</style>\n",
       "<table border=\"1\" class=\"dataframe\">\n",
       "  <thead>\n",
       "    <tr style=\"text-align: right;\">\n",
       "      <th></th>\n",
       "      <th>power_kwh</th>\n",
       "    </tr>\n",
       "  </thead>\n",
       "  <tbody>\n",
       "    <tr>\n",
       "      <th>2010-01-01 00:00:00</th>\n",
       "      <td>0.0</td>\n",
       "    </tr>\n",
       "    <tr>\n",
       "      <th>2010-01-01 01:00:00</th>\n",
       "      <td>0.0</td>\n",
       "    </tr>\n",
       "    <tr>\n",
       "      <th>2010-01-01 02:00:00</th>\n",
       "      <td>0.0</td>\n",
       "    </tr>\n",
       "    <tr>\n",
       "      <th>2010-01-01 03:00:00</th>\n",
       "      <td>0.0</td>\n",
       "    </tr>\n",
       "    <tr>\n",
       "      <th>2010-01-01 04:00:00</th>\n",
       "      <td>0.0</td>\n",
       "    </tr>\n",
       "    <tr>\n",
       "      <th>...</th>\n",
       "      <td>...</td>\n",
       "    </tr>\n",
       "    <tr>\n",
       "      <th>2023-12-31 19:00:00</th>\n",
       "      <td>0.0</td>\n",
       "    </tr>\n",
       "    <tr>\n",
       "      <th>2023-12-31 20:00:00</th>\n",
       "      <td>0.0</td>\n",
       "    </tr>\n",
       "    <tr>\n",
       "      <th>2023-12-31 21:00:00</th>\n",
       "      <td>0.0</td>\n",
       "    </tr>\n",
       "    <tr>\n",
       "      <th>2023-12-31 22:00:00</th>\n",
       "      <td>0.0</td>\n",
       "    </tr>\n",
       "    <tr>\n",
       "      <th>2023-12-31 23:00:00</th>\n",
       "      <td>0.0</td>\n",
       "    </tr>\n",
       "  </tbody>\n",
       "</table>\n",
       "<p>122712 rows × 1 columns</p>\n",
       "</div>"
      ],
      "text/plain": [
       "                     power_kwh\n",
       "2010-01-01 00:00:00        0.0\n",
       "2010-01-01 01:00:00        0.0\n",
       "2010-01-01 02:00:00        0.0\n",
       "2010-01-01 03:00:00        0.0\n",
       "2010-01-01 04:00:00        0.0\n",
       "...                        ...\n",
       "2023-12-31 19:00:00        0.0\n",
       "2023-12-31 20:00:00        0.0\n",
       "2023-12-31 21:00:00        0.0\n",
       "2023-12-31 22:00:00        0.0\n",
       "2023-12-31 23:00:00        0.0\n",
       "\n",
       "[122712 rows x 1 columns]"
      ]
     },
     "execution_count": 20,
     "metadata": {},
     "output_type": "execute_result"
    },
    {
     "ename": "",
     "evalue": "",
     "output_type": "error",
     "traceback": [
      "\u001b[1;31mThe Kernel crashed while executing code in the current cell or a previous cell. \n",
      "\u001b[1;31mPlease review the code in the cell(s) to identify a possible cause of the failure. \n",
      "\u001b[1;31mClick <a href='https://aka.ms/vscodeJupyterKernelCrash'>here</a> for more info. \n",
      "\u001b[1;31mView Jupyter <a href='command:jupyter.viewOutput'>log</a> for further details."
     ]
    }
   ],
   "source": [
    "solar_df"
   ]
  },
  {
   "cell_type": "code",
   "execution_count": 13,
   "id": "afa9a07e",
   "metadata": {},
   "outputs": [],
   "source": [
    "load_df = load_hourly_load_data(\"data/hourly_load_data_per_month.csv\")\n",
    "\n",
    "# Create battery\n",
    "battery = Battery()"
   ]
  },
  {
   "cell_type": "code",
   "execution_count": 16,
   "id": "cbc88a91",
   "metadata": {},
   "outputs": [
    {
     "data": {
      "application/vnd.microsoft.datawrangler.viewer.v0+json": {
       "columns": [
        {
         "name": "index",
         "rawType": "datetime64[ns]",
         "type": "datetime"
        },
        {
         "name": "power_kwh",
         "rawType": "int64",
         "type": "integer"
        }
       ],
       "ref": "caa302fa-31f4-4241-b5a1-9f68872bcb34",
       "rows": [
        [
         "2010-01-01 01:00:00",
         "1"
        ],
        [
         "2010-01-01 02:00:00",
         "1"
        ],
        [
         "2010-01-01 03:00:00",
         "1"
        ],
        [
         "2010-01-01 04:00:00",
         "1"
        ],
        [
         "2010-01-01 05:00:00",
         "1"
        ],
        [
         "2010-01-01 06:00:00",
         "1"
        ],
        [
         "2010-01-01 07:00:00",
         "1"
        ],
        [
         "2010-01-01 08:00:00",
         "2"
        ],
        [
         "2010-01-01 09:00:00",
         "4"
        ],
        [
         "2010-01-01 10:00:00",
         "4"
        ],
        [
         "2010-01-01 11:00:00",
         "3"
        ],
        [
         "2010-01-01 12:00:00",
         "3"
        ],
        [
         "2010-01-01 13:00:00",
         "3"
        ],
        [
         "2010-01-01 14:00:00",
         "3"
        ],
        [
         "2010-01-01 15:00:00",
         "3"
        ],
        [
         "2010-01-01 16:00:00",
         "4"
        ],
        [
         "2010-01-01 17:00:00",
         "4"
        ],
        [
         "2010-01-01 18:00:00",
         "2"
        ],
        [
         "2010-01-01 19:00:00",
         "1"
        ],
        [
         "2010-01-01 20:00:00",
         "1"
        ],
        [
         "2010-01-01 21:00:00",
         "1"
        ],
        [
         "2010-01-01 22:00:00",
         "1"
        ],
        [
         "2010-01-01 23:00:00",
         "1"
        ],
        [
         "2010-01-02 00:00:00",
         "1"
        ],
        [
         "2010-01-02 01:00:00",
         "1"
        ],
        [
         "2010-01-02 02:00:00",
         "1"
        ],
        [
         "2010-01-02 03:00:00",
         "1"
        ],
        [
         "2010-01-02 04:00:00",
         "1"
        ],
        [
         "2010-01-02 05:00:00",
         "1"
        ],
        [
         "2010-01-02 06:00:00",
         "1"
        ],
        [
         "2010-01-02 07:00:00",
         "1"
        ],
        [
         "2010-01-02 08:00:00",
         "2"
        ],
        [
         "2010-01-02 09:00:00",
         "4"
        ],
        [
         "2010-01-02 10:00:00",
         "4"
        ],
        [
         "2010-01-02 11:00:00",
         "3"
        ],
        [
         "2010-01-02 12:00:00",
         "3"
        ],
        [
         "2010-01-02 13:00:00",
         "3"
        ],
        [
         "2010-01-02 14:00:00",
         "3"
        ],
        [
         "2010-01-02 15:00:00",
         "3"
        ],
        [
         "2010-01-02 16:00:00",
         "4"
        ],
        [
         "2010-01-02 17:00:00",
         "4"
        ],
        [
         "2010-01-02 18:00:00",
         "2"
        ],
        [
         "2010-01-02 19:00:00",
         "1"
        ],
        [
         "2010-01-02 20:00:00",
         "1"
        ],
        [
         "2010-01-02 21:00:00",
         "1"
        ],
        [
         "2010-01-02 22:00:00",
         "1"
        ],
        [
         "2010-01-02 23:00:00",
         "1"
        ],
        [
         "2010-01-03 00:00:00",
         "1"
        ],
        [
         "2010-01-03 01:00:00",
         "1"
        ],
        [
         "2010-01-03 02:00:00",
         "1"
        ]
       ],
       "shape": {
        "columns": 1,
        "rows": 122711
       }
      },
      "text/html": [
       "<div>\n",
       "<style scoped>\n",
       "    .dataframe tbody tr th:only-of-type {\n",
       "        vertical-align: middle;\n",
       "    }\n",
       "\n",
       "    .dataframe tbody tr th {\n",
       "        vertical-align: top;\n",
       "    }\n",
       "\n",
       "    .dataframe thead th {\n",
       "        text-align: right;\n",
       "    }\n",
       "</style>\n",
       "<table border=\"1\" class=\"dataframe\">\n",
       "  <thead>\n",
       "    <tr style=\"text-align: right;\">\n",
       "      <th></th>\n",
       "      <th>power_kwh</th>\n",
       "    </tr>\n",
       "  </thead>\n",
       "  <tbody>\n",
       "    <tr>\n",
       "      <th>2010-01-01 01:00:00</th>\n",
       "      <td>1</td>\n",
       "    </tr>\n",
       "    <tr>\n",
       "      <th>2010-01-01 02:00:00</th>\n",
       "      <td>1</td>\n",
       "    </tr>\n",
       "    <tr>\n",
       "      <th>2010-01-01 03:00:00</th>\n",
       "      <td>1</td>\n",
       "    </tr>\n",
       "    <tr>\n",
       "      <th>2010-01-01 04:00:00</th>\n",
       "      <td>1</td>\n",
       "    </tr>\n",
       "    <tr>\n",
       "      <th>2010-01-01 05:00:00</th>\n",
       "      <td>1</td>\n",
       "    </tr>\n",
       "    <tr>\n",
       "      <th>...</th>\n",
       "      <td>...</td>\n",
       "    </tr>\n",
       "    <tr>\n",
       "      <th>2023-12-31 19:00:00</th>\n",
       "      <td>1</td>\n",
       "    </tr>\n",
       "    <tr>\n",
       "      <th>2023-12-31 20:00:00</th>\n",
       "      <td>1</td>\n",
       "    </tr>\n",
       "    <tr>\n",
       "      <th>2023-12-31 21:00:00</th>\n",
       "      <td>1</td>\n",
       "    </tr>\n",
       "    <tr>\n",
       "      <th>2023-12-31 22:00:00</th>\n",
       "      <td>1</td>\n",
       "    </tr>\n",
       "    <tr>\n",
       "      <th>2023-12-31 23:00:00</th>\n",
       "      <td>1</td>\n",
       "    </tr>\n",
       "  </tbody>\n",
       "</table>\n",
       "<p>122711 rows × 1 columns</p>\n",
       "</div>"
      ],
      "text/plain": [
       "                     power_kwh\n",
       "2010-01-01 01:00:00          1\n",
       "2010-01-01 02:00:00          1\n",
       "2010-01-01 03:00:00          1\n",
       "2010-01-01 04:00:00          1\n",
       "2010-01-01 05:00:00          1\n",
       "...                        ...\n",
       "2023-12-31 19:00:00          1\n",
       "2023-12-31 20:00:00          1\n",
       "2023-12-31 21:00:00          1\n",
       "2023-12-31 22:00:00          1\n",
       "2023-12-31 23:00:00          1\n",
       "\n",
       "[122711 rows x 1 columns]"
      ]
     },
     "execution_count": 16,
     "metadata": {},
     "output_type": "execute_result"
    }
   ],
   "source": [
    "load_df"
   ]
  },
  {
   "cell_type": "code",
   "execution_count": 14,
   "id": "409515ef",
   "metadata": {},
   "outputs": [],
   "source": [
    "# Align dataframes\n",
    "start = max(solar_df.index.min(), load_df.index.min())\n",
    "end = min(solar_df.index.max(), load_df.index.max())\n",
    "solar_df = solar_df[start:end]\n",
    "load_df = load_df[start:end]"
   ]
  },
  {
   "cell_type": "code",
   "execution_count": 15,
   "id": "292c5329",
   "metadata": {},
   "outputs": [
    {
     "ename": "KeyError",
     "evalue": "\"None of ['timestamp'] are in the columns\"",
     "output_type": "error",
     "traceback": [
      "\u001b[1;31m---------------------------------------------------------------------------\u001b[0m",
      "\u001b[1;31mKeyError\u001b[0m                                  Traceback (most recent call last)",
      "\u001b[1;32m~\\AppData\\Local\\Temp\\ipykernel_12560\\2651045301.py\u001b[0m in \u001b[0;36m?\u001b[1;34m()\u001b[0m\n\u001b[0;32m      1\u001b[0m \u001b[1;31m# Run simulation\u001b[0m\u001b[1;33m\u001b[0m\u001b[1;33m\u001b[0m\u001b[0m\n\u001b[1;32m----> 2\u001b[1;33m \u001b[0mresults\u001b[0m \u001b[1;33m=\u001b[0m \u001b[0mrun_simulation\u001b[0m\u001b[1;33m(\u001b[0m\u001b[0msolar_df\u001b[0m\u001b[1;33m,\u001b[0m \u001b[0mload_df\u001b[0m\u001b[1;33m,\u001b[0m \u001b[0mbattery\u001b[0m\u001b[1;33m)\u001b[0m\u001b[1;33m\u001b[0m\u001b[1;33m\u001b[0m\u001b[0m\n\u001b[0m",
      "\u001b[1;32mc:\\Users\\wmd327\\Dropbox\\Programming\\solar_simulation\\simulation.py\u001b[0m in \u001b[0;36m?\u001b[1;34m(solar_df, load_df, battery)\u001b[0m\n\u001b[0;32m     48\u001b[0m \u001b[1;33m\u001b[0m\u001b[0m\n\u001b[0;32m     49\u001b[0m         \u001b[0mrecord\u001b[0m\u001b[1;33m[\u001b[0m\u001b[1;34m\"battery_soc\"\u001b[0m\u001b[1;33m]\u001b[0m \u001b[1;33m=\u001b[0m \u001b[0mbattery\u001b[0m\u001b[1;33m.\u001b[0m\u001b[0msoc\u001b[0m\u001b[1;33m\u001b[0m\u001b[1;33m\u001b[0m\u001b[0m\n\u001b[0;32m     50\u001b[0m         \u001b[0mresults\u001b[0m\u001b[1;33m.\u001b[0m\u001b[0mappend\u001b[0m\u001b[1;33m(\u001b[0m\u001b[0mrecord\u001b[0m\u001b[1;33m)\u001b[0m\u001b[1;33m\u001b[0m\u001b[1;33m\u001b[0m\u001b[0m\n\u001b[0;32m     51\u001b[0m \u001b[1;33m\u001b[0m\u001b[0m\n\u001b[1;32m---> 52\u001b[1;33m     \u001b[0mresult_df\u001b[0m \u001b[1;33m=\u001b[0m \u001b[0mpd\u001b[0m\u001b[1;33m.\u001b[0m\u001b[0mDataFrame\u001b[0m\u001b[1;33m(\u001b[0m\u001b[0mresults\u001b[0m\u001b[1;33m)\u001b[0m\u001b[1;33m.\u001b[0m\u001b[0mset_index\u001b[0m\u001b[1;33m(\u001b[0m\u001b[1;34m\"timestamp\"\u001b[0m\u001b[1;33m)\u001b[0m\u001b[1;33m\u001b[0m\u001b[1;33m\u001b[0m\u001b[0m\n\u001b[0m\u001b[0;32m     53\u001b[0m     \u001b[1;32mreturn\u001b[0m \u001b[0mresult_df\u001b[0m\u001b[1;33m\u001b[0m\u001b[1;33m\u001b[0m\u001b[0m\n",
      "\u001b[1;32mc:\\Users\\wmd327\\AppData\\Local\\Programs\\Python\\Python312\\Lib\\site-packages\\pandas\\core\\frame.py\u001b[0m in \u001b[0;36m?\u001b[1;34m(self, keys, drop, append, inplace, verify_integrity)\u001b[0m\n\u001b[0;32m   6118\u001b[0m                     \u001b[1;32mif\u001b[0m \u001b[1;32mnot\u001b[0m \u001b[0mfound\u001b[0m\u001b[1;33m:\u001b[0m\u001b[1;33m\u001b[0m\u001b[1;33m\u001b[0m\u001b[0m\n\u001b[0;32m   6119\u001b[0m                         \u001b[0mmissing\u001b[0m\u001b[1;33m.\u001b[0m\u001b[0mappend\u001b[0m\u001b[1;33m(\u001b[0m\u001b[0mcol\u001b[0m\u001b[1;33m)\u001b[0m\u001b[1;33m\u001b[0m\u001b[1;33m\u001b[0m\u001b[0m\n\u001b[0;32m   6120\u001b[0m \u001b[1;33m\u001b[0m\u001b[0m\n\u001b[0;32m   6121\u001b[0m         \u001b[1;32mif\u001b[0m \u001b[0mmissing\u001b[0m\u001b[1;33m:\u001b[0m\u001b[1;33m\u001b[0m\u001b[1;33m\u001b[0m\u001b[0m\n\u001b[1;32m-> 6122\u001b[1;33m             \u001b[1;32mraise\u001b[0m \u001b[0mKeyError\u001b[0m\u001b[1;33m(\u001b[0m\u001b[1;33mf\"\u001b[0m\u001b[1;33mNone of \u001b[0m\u001b[1;33m{\u001b[0m\u001b[0mmissing\u001b[0m\u001b[1;33m}\u001b[0m\u001b[1;33m are in the columns\u001b[0m\u001b[1;33m\"\u001b[0m\u001b[1;33m)\u001b[0m\u001b[1;33m\u001b[0m\u001b[1;33m\u001b[0m\u001b[0m\n\u001b[0m\u001b[0;32m   6123\u001b[0m \u001b[1;33m\u001b[0m\u001b[0m\n\u001b[0;32m   6124\u001b[0m         \u001b[1;32mif\u001b[0m \u001b[0minplace\u001b[0m\u001b[1;33m:\u001b[0m\u001b[1;33m\u001b[0m\u001b[1;33m\u001b[0m\u001b[0m\n\u001b[0;32m   6125\u001b[0m             \u001b[0mframe\u001b[0m \u001b[1;33m=\u001b[0m \u001b[0mself\u001b[0m\u001b[1;33m\u001b[0m\u001b[1;33m\u001b[0m\u001b[0m\n",
      "\u001b[1;31mKeyError\u001b[0m: \"None of ['timestamp'] are in the columns\""
     ]
    }
   ],
   "source": [
    "# Run simulation\n",
    "results = run_simulation(solar_df, load_df, battery)"
   ]
  },
  {
   "cell_type": "code",
   "execution_count": 39,
   "id": "58392b07",
   "metadata": {},
   "outputs": [],
   "source": [
    "raw_data = pd.read_csv(\"data/hourly_load_data_per_month.csv\", sep=\";\", index_col='Month')"
   ]
  },
  {
   "cell_type": "code",
   "execution_count": 40,
   "id": "567b19c1",
   "metadata": {},
   "outputs": [
    {
     "data": {
      "application/vnd.microsoft.datawrangler.viewer.v0+json": {
       "columns": [
        {
         "name": "Month",
         "rawType": "int64",
         "type": "integer"
        },
        {
         "name": "00:00",
         "rawType": "int64",
         "type": "integer"
        },
        {
         "name": "01:00",
         "rawType": "int64",
         "type": "integer"
        },
        {
         "name": "02:00",
         "rawType": "int64",
         "type": "integer"
        },
        {
         "name": "03:00",
         "rawType": "int64",
         "type": "integer"
        },
        {
         "name": "04:00",
         "rawType": "int64",
         "type": "integer"
        },
        {
         "name": "05:00",
         "rawType": "int64",
         "type": "integer"
        },
        {
         "name": "06:00",
         "rawType": "int64",
         "type": "integer"
        },
        {
         "name": "07:00",
         "rawType": "int64",
         "type": "integer"
        },
        {
         "name": "08:00",
         "rawType": "int64",
         "type": "integer"
        },
        {
         "name": "09:00",
         "rawType": "int64",
         "type": "integer"
        },
        {
         "name": "10:00",
         "rawType": "int64",
         "type": "integer"
        },
        {
         "name": "11:00",
         "rawType": "int64",
         "type": "integer"
        },
        {
         "name": "12:00",
         "rawType": "int64",
         "type": "integer"
        },
        {
         "name": "13:00",
         "rawType": "int64",
         "type": "integer"
        },
        {
         "name": "14:00",
         "rawType": "int64",
         "type": "integer"
        },
        {
         "name": "15:00",
         "rawType": "int64",
         "type": "integer"
        },
        {
         "name": "16:00",
         "rawType": "int64",
         "type": "integer"
        },
        {
         "name": "17:00",
         "rawType": "int64",
         "type": "integer"
        },
        {
         "name": "18:00",
         "rawType": "int64",
         "type": "integer"
        },
        {
         "name": "19:00",
         "rawType": "int64",
         "type": "integer"
        },
        {
         "name": "20:00",
         "rawType": "int64",
         "type": "integer"
        },
        {
         "name": "21:00",
         "rawType": "int64",
         "type": "integer"
        },
        {
         "name": "22:00",
         "rawType": "int64",
         "type": "integer"
        },
        {
         "name": "23:00",
         "rawType": "int64",
         "type": "integer"
        }
       ],
       "ref": "f7e539d3-0bbd-44c7-89e0-4f7f3346526b",
       "rows": [
        [
         "1",
         "1",
         "1",
         "1",
         "1",
         "1",
         "1",
         "1",
         "1",
         "2",
         "4",
         "4",
         "3",
         "3",
         "3",
         "3",
         "3",
         "4",
         "4",
         "2",
         "1",
         "1",
         "1",
         "1",
         "1"
        ],
        [
         "2",
         "1",
         "1",
         "1",
         "1",
         "1",
         "1",
         "1",
         "1",
         "2",
         "4",
         "4",
         "3",
         "3",
         "3",
         "3",
         "3",
         "4",
         "4",
         "2",
         "1",
         "1",
         "1",
         "1",
         "1"
        ],
        [
         "3",
         "1",
         "1",
         "1",
         "1",
         "1",
         "1",
         "1",
         "1",
         "2",
         "4",
         "4",
         "3",
         "3",
         "3",
         "3",
         "3",
         "4",
         "4",
         "2",
         "1",
         "1",
         "1",
         "1",
         "1"
        ],
        [
         "4",
         "1",
         "1",
         "1",
         "1",
         "1",
         "1",
         "1",
         "1",
         "2",
         "4",
         "4",
         "3",
         "3",
         "3",
         "3",
         "3",
         "4",
         "4",
         "2",
         "1",
         "1",
         "1",
         "1",
         "1"
        ],
        [
         "5",
         "0",
         "0",
         "0",
         "0",
         "0",
         "0",
         "0",
         "1",
         "2",
         "4",
         "4",
         "2",
         "2",
         "2",
         "2",
         "2",
         "2",
         "2",
         "3",
         "2",
         "2",
         "0",
         "0",
         "0"
        ],
        [
         "6",
         "0",
         "0",
         "0",
         "0",
         "0",
         "0",
         "0",
         "1",
         "2",
         "4",
         "4",
         "2",
         "2",
         "2",
         "2",
         "2",
         "2",
         "2",
         "3",
         "2",
         "2",
         "0",
         "0",
         "0"
        ],
        [
         "7",
         "0",
         "0",
         "0",
         "0",
         "0",
         "0",
         "0",
         "1",
         "2",
         "4",
         "4",
         "2",
         "2",
         "2",
         "2",
         "2",
         "2",
         "2",
         "3",
         "2",
         "2",
         "0",
         "0",
         "0"
        ],
        [
         "8",
         "0",
         "0",
         "0",
         "0",
         "0",
         "0",
         "0",
         "1",
         "2",
         "4",
         "4",
         "2",
         "2",
         "2",
         "2",
         "2",
         "2",
         "2",
         "3",
         "2",
         "2",
         "0",
         "0",
         "0"
        ],
        [
         "9",
         "0",
         "0",
         "0",
         "0",
         "0",
         "0",
         "0",
         "1",
         "2",
         "4",
         "4",
         "2",
         "2",
         "2",
         "2",
         "2",
         "2",
         "2",
         "3",
         "2",
         "2",
         "0",
         "0",
         "0"
        ],
        [
         "10",
         "0",
         "0",
         "0",
         "0",
         "0",
         "0",
         "0",
         "1",
         "2",
         "4",
         "4",
         "2",
         "2",
         "2",
         "2",
         "2",
         "2",
         "2",
         "3",
         "2",
         "2",
         "0",
         "0",
         "0"
        ],
        [
         "11",
         "1",
         "1",
         "1",
         "1",
         "1",
         "1",
         "1",
         "1",
         "2",
         "4",
         "4",
         "3",
         "3",
         "3",
         "3",
         "3",
         "4",
         "4",
         "2",
         "1",
         "1",
         "1",
         "1",
         "1"
        ],
        [
         "12",
         "1",
         "1",
         "1",
         "1",
         "1",
         "1",
         "1",
         "1",
         "2",
         "4",
         "4",
         "3",
         "3",
         "3",
         "3",
         "3",
         "4",
         "4",
         "2",
         "1",
         "1",
         "1",
         "1",
         "1"
        ]
       ],
       "shape": {
        "columns": 24,
        "rows": 12
       }
      },
      "text/html": [
       "<div>\n",
       "<style scoped>\n",
       "    .dataframe tbody tr th:only-of-type {\n",
       "        vertical-align: middle;\n",
       "    }\n",
       "\n",
       "    .dataframe tbody tr th {\n",
       "        vertical-align: top;\n",
       "    }\n",
       "\n",
       "    .dataframe thead th {\n",
       "        text-align: right;\n",
       "    }\n",
       "</style>\n",
       "<table border=\"1\" class=\"dataframe\">\n",
       "  <thead>\n",
       "    <tr style=\"text-align: right;\">\n",
       "      <th></th>\n",
       "      <th>00:00</th>\n",
       "      <th>01:00</th>\n",
       "      <th>02:00</th>\n",
       "      <th>03:00</th>\n",
       "      <th>04:00</th>\n",
       "      <th>05:00</th>\n",
       "      <th>06:00</th>\n",
       "      <th>07:00</th>\n",
       "      <th>08:00</th>\n",
       "      <th>09:00</th>\n",
       "      <th>...</th>\n",
       "      <th>14:00</th>\n",
       "      <th>15:00</th>\n",
       "      <th>16:00</th>\n",
       "      <th>17:00</th>\n",
       "      <th>18:00</th>\n",
       "      <th>19:00</th>\n",
       "      <th>20:00</th>\n",
       "      <th>21:00</th>\n",
       "      <th>22:00</th>\n",
       "      <th>23:00</th>\n",
       "    </tr>\n",
       "    <tr>\n",
       "      <th>Month</th>\n",
       "      <th></th>\n",
       "      <th></th>\n",
       "      <th></th>\n",
       "      <th></th>\n",
       "      <th></th>\n",
       "      <th></th>\n",
       "      <th></th>\n",
       "      <th></th>\n",
       "      <th></th>\n",
       "      <th></th>\n",
       "      <th></th>\n",
       "      <th></th>\n",
       "      <th></th>\n",
       "      <th></th>\n",
       "      <th></th>\n",
       "      <th></th>\n",
       "      <th></th>\n",
       "      <th></th>\n",
       "      <th></th>\n",
       "      <th></th>\n",
       "      <th></th>\n",
       "    </tr>\n",
       "  </thead>\n",
       "  <tbody>\n",
       "    <tr>\n",
       "      <th>1</th>\n",
       "      <td>1</td>\n",
       "      <td>1</td>\n",
       "      <td>1</td>\n",
       "      <td>1</td>\n",
       "      <td>1</td>\n",
       "      <td>1</td>\n",
       "      <td>1</td>\n",
       "      <td>1</td>\n",
       "      <td>2</td>\n",
       "      <td>4</td>\n",
       "      <td>...</td>\n",
       "      <td>3</td>\n",
       "      <td>3</td>\n",
       "      <td>4</td>\n",
       "      <td>4</td>\n",
       "      <td>2</td>\n",
       "      <td>1</td>\n",
       "      <td>1</td>\n",
       "      <td>1</td>\n",
       "      <td>1</td>\n",
       "      <td>1</td>\n",
       "    </tr>\n",
       "    <tr>\n",
       "      <th>2</th>\n",
       "      <td>1</td>\n",
       "      <td>1</td>\n",
       "      <td>1</td>\n",
       "      <td>1</td>\n",
       "      <td>1</td>\n",
       "      <td>1</td>\n",
       "      <td>1</td>\n",
       "      <td>1</td>\n",
       "      <td>2</td>\n",
       "      <td>4</td>\n",
       "      <td>...</td>\n",
       "      <td>3</td>\n",
       "      <td>3</td>\n",
       "      <td>4</td>\n",
       "      <td>4</td>\n",
       "      <td>2</td>\n",
       "      <td>1</td>\n",
       "      <td>1</td>\n",
       "      <td>1</td>\n",
       "      <td>1</td>\n",
       "      <td>1</td>\n",
       "    </tr>\n",
       "    <tr>\n",
       "      <th>3</th>\n",
       "      <td>1</td>\n",
       "      <td>1</td>\n",
       "      <td>1</td>\n",
       "      <td>1</td>\n",
       "      <td>1</td>\n",
       "      <td>1</td>\n",
       "      <td>1</td>\n",
       "      <td>1</td>\n",
       "      <td>2</td>\n",
       "      <td>4</td>\n",
       "      <td>...</td>\n",
       "      <td>3</td>\n",
       "      <td>3</td>\n",
       "      <td>4</td>\n",
       "      <td>4</td>\n",
       "      <td>2</td>\n",
       "      <td>1</td>\n",
       "      <td>1</td>\n",
       "      <td>1</td>\n",
       "      <td>1</td>\n",
       "      <td>1</td>\n",
       "    </tr>\n",
       "    <tr>\n",
       "      <th>4</th>\n",
       "      <td>1</td>\n",
       "      <td>1</td>\n",
       "      <td>1</td>\n",
       "      <td>1</td>\n",
       "      <td>1</td>\n",
       "      <td>1</td>\n",
       "      <td>1</td>\n",
       "      <td>1</td>\n",
       "      <td>2</td>\n",
       "      <td>4</td>\n",
       "      <td>...</td>\n",
       "      <td>3</td>\n",
       "      <td>3</td>\n",
       "      <td>4</td>\n",
       "      <td>4</td>\n",
       "      <td>2</td>\n",
       "      <td>1</td>\n",
       "      <td>1</td>\n",
       "      <td>1</td>\n",
       "      <td>1</td>\n",
       "      <td>1</td>\n",
       "    </tr>\n",
       "    <tr>\n",
       "      <th>5</th>\n",
       "      <td>0</td>\n",
       "      <td>0</td>\n",
       "      <td>0</td>\n",
       "      <td>0</td>\n",
       "      <td>0</td>\n",
       "      <td>0</td>\n",
       "      <td>0</td>\n",
       "      <td>1</td>\n",
       "      <td>2</td>\n",
       "      <td>4</td>\n",
       "      <td>...</td>\n",
       "      <td>2</td>\n",
       "      <td>2</td>\n",
       "      <td>2</td>\n",
       "      <td>2</td>\n",
       "      <td>3</td>\n",
       "      <td>2</td>\n",
       "      <td>2</td>\n",
       "      <td>0</td>\n",
       "      <td>0</td>\n",
       "      <td>0</td>\n",
       "    </tr>\n",
       "    <tr>\n",
       "      <th>6</th>\n",
       "      <td>0</td>\n",
       "      <td>0</td>\n",
       "      <td>0</td>\n",
       "      <td>0</td>\n",
       "      <td>0</td>\n",
       "      <td>0</td>\n",
       "      <td>0</td>\n",
       "      <td>1</td>\n",
       "      <td>2</td>\n",
       "      <td>4</td>\n",
       "      <td>...</td>\n",
       "      <td>2</td>\n",
       "      <td>2</td>\n",
       "      <td>2</td>\n",
       "      <td>2</td>\n",
       "      <td>3</td>\n",
       "      <td>2</td>\n",
       "      <td>2</td>\n",
       "      <td>0</td>\n",
       "      <td>0</td>\n",
       "      <td>0</td>\n",
       "    </tr>\n",
       "    <tr>\n",
       "      <th>7</th>\n",
       "      <td>0</td>\n",
       "      <td>0</td>\n",
       "      <td>0</td>\n",
       "      <td>0</td>\n",
       "      <td>0</td>\n",
       "      <td>0</td>\n",
       "      <td>0</td>\n",
       "      <td>1</td>\n",
       "      <td>2</td>\n",
       "      <td>4</td>\n",
       "      <td>...</td>\n",
       "      <td>2</td>\n",
       "      <td>2</td>\n",
       "      <td>2</td>\n",
       "      <td>2</td>\n",
       "      <td>3</td>\n",
       "      <td>2</td>\n",
       "      <td>2</td>\n",
       "      <td>0</td>\n",
       "      <td>0</td>\n",
       "      <td>0</td>\n",
       "    </tr>\n",
       "    <tr>\n",
       "      <th>8</th>\n",
       "      <td>0</td>\n",
       "      <td>0</td>\n",
       "      <td>0</td>\n",
       "      <td>0</td>\n",
       "      <td>0</td>\n",
       "      <td>0</td>\n",
       "      <td>0</td>\n",
       "      <td>1</td>\n",
       "      <td>2</td>\n",
       "      <td>4</td>\n",
       "      <td>...</td>\n",
       "      <td>2</td>\n",
       "      <td>2</td>\n",
       "      <td>2</td>\n",
       "      <td>2</td>\n",
       "      <td>3</td>\n",
       "      <td>2</td>\n",
       "      <td>2</td>\n",
       "      <td>0</td>\n",
       "      <td>0</td>\n",
       "      <td>0</td>\n",
       "    </tr>\n",
       "    <tr>\n",
       "      <th>9</th>\n",
       "      <td>0</td>\n",
       "      <td>0</td>\n",
       "      <td>0</td>\n",
       "      <td>0</td>\n",
       "      <td>0</td>\n",
       "      <td>0</td>\n",
       "      <td>0</td>\n",
       "      <td>1</td>\n",
       "      <td>2</td>\n",
       "      <td>4</td>\n",
       "      <td>...</td>\n",
       "      <td>2</td>\n",
       "      <td>2</td>\n",
       "      <td>2</td>\n",
       "      <td>2</td>\n",
       "      <td>3</td>\n",
       "      <td>2</td>\n",
       "      <td>2</td>\n",
       "      <td>0</td>\n",
       "      <td>0</td>\n",
       "      <td>0</td>\n",
       "    </tr>\n",
       "    <tr>\n",
       "      <th>10</th>\n",
       "      <td>0</td>\n",
       "      <td>0</td>\n",
       "      <td>0</td>\n",
       "      <td>0</td>\n",
       "      <td>0</td>\n",
       "      <td>0</td>\n",
       "      <td>0</td>\n",
       "      <td>1</td>\n",
       "      <td>2</td>\n",
       "      <td>4</td>\n",
       "      <td>...</td>\n",
       "      <td>2</td>\n",
       "      <td>2</td>\n",
       "      <td>2</td>\n",
       "      <td>2</td>\n",
       "      <td>3</td>\n",
       "      <td>2</td>\n",
       "      <td>2</td>\n",
       "      <td>0</td>\n",
       "      <td>0</td>\n",
       "      <td>0</td>\n",
       "    </tr>\n",
       "    <tr>\n",
       "      <th>11</th>\n",
       "      <td>1</td>\n",
       "      <td>1</td>\n",
       "      <td>1</td>\n",
       "      <td>1</td>\n",
       "      <td>1</td>\n",
       "      <td>1</td>\n",
       "      <td>1</td>\n",
       "      <td>1</td>\n",
       "      <td>2</td>\n",
       "      <td>4</td>\n",
       "      <td>...</td>\n",
       "      <td>3</td>\n",
       "      <td>3</td>\n",
       "      <td>4</td>\n",
       "      <td>4</td>\n",
       "      <td>2</td>\n",
       "      <td>1</td>\n",
       "      <td>1</td>\n",
       "      <td>1</td>\n",
       "      <td>1</td>\n",
       "      <td>1</td>\n",
       "    </tr>\n",
       "    <tr>\n",
       "      <th>12</th>\n",
       "      <td>1</td>\n",
       "      <td>1</td>\n",
       "      <td>1</td>\n",
       "      <td>1</td>\n",
       "      <td>1</td>\n",
       "      <td>1</td>\n",
       "      <td>1</td>\n",
       "      <td>1</td>\n",
       "      <td>2</td>\n",
       "      <td>4</td>\n",
       "      <td>...</td>\n",
       "      <td>3</td>\n",
       "      <td>3</td>\n",
       "      <td>4</td>\n",
       "      <td>4</td>\n",
       "      <td>2</td>\n",
       "      <td>1</td>\n",
       "      <td>1</td>\n",
       "      <td>1</td>\n",
       "      <td>1</td>\n",
       "      <td>1</td>\n",
       "    </tr>\n",
       "  </tbody>\n",
       "</table>\n",
       "<p>12 rows × 24 columns</p>\n",
       "</div>"
      ],
      "text/plain": [
       "       00:00  01:00  02:00  03:00  04:00  05:00  06:00  07:00  08:00  09:00  \\\n",
       "Month                                                                         \n",
       "1          1      1      1      1      1      1      1      1      2      4   \n",
       "2          1      1      1      1      1      1      1      1      2      4   \n",
       "3          1      1      1      1      1      1      1      1      2      4   \n",
       "4          1      1      1      1      1      1      1      1      2      4   \n",
       "5          0      0      0      0      0      0      0      1      2      4   \n",
       "6          0      0      0      0      0      0      0      1      2      4   \n",
       "7          0      0      0      0      0      0      0      1      2      4   \n",
       "8          0      0      0      0      0      0      0      1      2      4   \n",
       "9          0      0      0      0      0      0      0      1      2      4   \n",
       "10         0      0      0      0      0      0      0      1      2      4   \n",
       "11         1      1      1      1      1      1      1      1      2      4   \n",
       "12         1      1      1      1      1      1      1      1      2      4   \n",
       "\n",
       "       ...  14:00  15:00  16:00  17:00  18:00  19:00  20:00  21:00  22:00  \\\n",
       "Month  ...                                                                  \n",
       "1      ...      3      3      4      4      2      1      1      1      1   \n",
       "2      ...      3      3      4      4      2      1      1      1      1   \n",
       "3      ...      3      3      4      4      2      1      1      1      1   \n",
       "4      ...      3      3      4      4      2      1      1      1      1   \n",
       "5      ...      2      2      2      2      3      2      2      0      0   \n",
       "6      ...      2      2      2      2      3      2      2      0      0   \n",
       "7      ...      2      2      2      2      3      2      2      0      0   \n",
       "8      ...      2      2      2      2      3      2      2      0      0   \n",
       "9      ...      2      2      2      2      3      2      2      0      0   \n",
       "10     ...      2      2      2      2      3      2      2      0      0   \n",
       "11     ...      3      3      4      4      2      1      1      1      1   \n",
       "12     ...      3      3      4      4      2      1      1      1      1   \n",
       "\n",
       "       23:00  \n",
       "Month         \n",
       "1          1  \n",
       "2          1  \n",
       "3          1  \n",
       "4          1  \n",
       "5          0  \n",
       "6          0  \n",
       "7          0  \n",
       "8          0  \n",
       "9          0  \n",
       "10         0  \n",
       "11         1  \n",
       "12         1  \n",
       "\n",
       "[12 rows x 24 columns]"
      ]
     },
     "execution_count": 40,
     "metadata": {},
     "output_type": "execute_result"
    }
   ],
   "source": [
    "raw_data"
   ]
  },
  {
   "cell_type": "code",
   "execution_count": 32,
   "id": "ae7ab412",
   "metadata": {},
   "outputs": [],
   "source": [
    "selected_fields = ['roof_southwest', 'roof_northeast']\n",
    "\n",
    "with open(\"data/hourly_data.json\", \"r\") as f:\n",
    "    raw_data = json.load(f)\n",
    "\n",
    "hourly_data_dic = {\n",
    "    field: pd.DataFrame({\n",
    "        \"power_kwh\": data[\"power_kwh\"]\n",
    "    }, index=pd.DataFrame(data).index)\n",
    "    for field, data in raw_data.items()\n",
    "    if selected_fields is None or field in selected_fields\n",
    "}"
   ]
  },
  {
   "cell_type": "code",
   "execution_count": 31,
   "id": "5928f918",
   "metadata": {},
   "outputs": [
    {
     "data": {
      "text/plain": [
       "RangeIndex(start=0, stop=122712, step=1)"
      ]
     },
     "execution_count": 31,
     "metadata": {},
     "output_type": "execute_result"
    }
   ],
   "source": [
    "pd.DataFrame(raw_data['roof_northeast']).index"
   ]
  },
  {
   "cell_type": "code",
   "execution_count": 94,
   "id": "c0f90113",
   "metadata": {},
   "outputs": [
    {
     "name": "stdout",
     "output_type": "stream",
     "text": [
      "c:\\Users\\wmd327\\Dropbox\\Programming\\solar_simulation\n"
     ]
    }
   ],
   "source": [
    "import os\n",
    "print(os.getcwd())"
   ]
  }
 ],
 "metadata": {
  "kernelspec": {
   "display_name": "Python 3",
   "language": "python",
   "name": "python3"
  },
  "language_info": {
   "codemirror_mode": {
    "name": "ipython",
    "version": 3
   },
   "file_extension": ".py",
   "mimetype": "text/x-python",
   "name": "python",
   "nbconvert_exporter": "python",
   "pygments_lexer": "ipython3",
   "version": "3.12.3"
  }
 },
 "nbformat": 4,
 "nbformat_minor": 5
}
